{
 "cells": [
  {
   "cell_type": "code",
   "execution_count": 1,
   "metadata": {
    "collapsed": true
   },
   "outputs": [],
   "source": [
    "import numpy as np  \n",
    "import matplotlib.pyplot as plt  \n",
    "from PIL import Image  "
   ]
  },
  {
   "cell_type": "code",
   "execution_count": 2,
   "metadata": {
    "collapsed": true
   },
   "outputs": [],
   "source": [
    "caffe_root = '/home/lqp/caffe/'  \n",
    "import sys  \n",
    "sys.path.insert(0, caffe_root + 'python')  \n",
    "import caffe  "
   ]
  },
  {
   "cell_type": "code",
   "execution_count": 3,
   "metadata": {
    "collapsed": true
   },
   "outputs": [],
   "source": [
    "caffe.set_mode_cpu()"
   ]
  },
  {
   "cell_type": "code",
   "execution_count": 5,
   "metadata": {
    "collapsed": false
   },
   "outputs": [],
   "source": [
    "net = caffe.Net('/home/lqp/caffe/examples/lqp/conv.prototxt', caffe.TEST)  "
   ]
  },
  {
   "cell_type": "code",
   "execution_count": 6,
   "metadata": {
    "collapsed": false
   },
   "outputs": [
    {
     "name": "stdout",
     "output_type": "stream",
     "text": [
      "<class 'caffe._caffe.Net'>\n"
     ]
    }
   ],
   "source": [
    "print type(net) "
   ]
  },
  {
   "cell_type": "code",
   "execution_count": 7,
   "metadata": {
    "collapsed": false
   },
   "outputs": [
    {
     "name": "stdout",
     "output_type": "stream",
     "text": [
      "['__class__', '__delattr__', '__dict__', '__doc__', '__format__', '__getattribute__', '__hash__', '__init__', '__module__', '__new__', '__reduce__', '__reduce_ex__', '__repr__', '__setattr__', '__sizeof__', '__str__', '__subclasshook__', '__weakref__', '_backward', '_batch', '_blob_loss_weights', '_blob_names', '_blobs', '_bottom_ids', '_forward', '_inputs', '_layer_names', '_outputs', '_set_input_arrays', '_top_ids', 'after_backward', 'after_forward', 'backward', 'before_backward', 'before_forward', 'blob_loss_weights', 'blobs', 'bottom_names', 'clear_param_diffs', 'copy_from', 'forward', 'forward_all', 'forward_backward_all', 'inputs', 'layer_dict', 'layers', 'load_hdf5', 'outputs', 'params', 'reshape', 'save', 'save_hdf5', 'set_input_arrays', 'share_with', 'top_names']\n"
     ]
    }
   ],
   "source": [
    "print dir(net) "
   ]
  },
  {
   "cell_type": "code",
   "execution_count": 8,
   "metadata": {
    "collapsed": false
   },
   "outputs": [
    {
     "name": "stdout",
     "output_type": "stream",
     "text": [
      "Help on Net in module caffe._caffe object:\n",
      "\n",
      "class Net(Boost.Python.instance)\n",
      " |  Method resolution order:\n",
      " |      Net\n",
      " |      Boost.Python.instance\n",
      " |      __builtin__.object\n",
      " |  \n",
      " |  Methods defined here:\n",
      " |  \n",
      " |  __init__(...)\n",
      " |      __init__( (object)arg1, (str)network_file, (int)phase [, (int)level=0 [, (object)stages=None [, (object)weights=None]]]) -> object :\n",
      " |      \n",
      " |          C++ signature :\n",
      " |              void* __init__(boost::python::api::object,std::string,int [,int=0 [,boost::python::api::object=None [,boost::python::api::object=None]]])\n",
      " |      \n",
      " |      __init__( (object)arg1, (str)arg2, (str)arg3, (int)arg4) -> object :\n",
      " |      \n",
      " |          C++ signature :\n",
      " |              void* __init__(boost::python::api::object,std::string,std::string,int)\n",
      " |  \n",
      " |  __reduce__ = <unnamed Boost.Python function>(...)\n",
      " |  \n",
      " |  after_backward(...)\n",
      " |      after_backward( (Net)arg1 [, (object)arg2]) -> None :\n",
      " |      \n",
      " |          C++ signature :\n",
      " |              void after_backward(caffe::Net<float>* [,boost::python::api::object])\n",
      " |  \n",
      " |  after_forward(...)\n",
      " |      after_forward( (Net)arg1, (object)arg2) -> None :\n",
      " |      \n",
      " |          C++ signature :\n",
      " |              void after_forward(caffe::Net<float>*,boost::python::api::object)\n",
      " |  \n",
      " |  backward = _Net_backward(self, diffs=None, start=None, end=None, **kwargs)\n",
      " |      Backward pass: prepare diffs and run the net backward.\n",
      " |      \n",
      " |      Parameters\n",
      " |      ----------\n",
      " |      diffs : list of diffs to return in addition to bottom diffs.\n",
      " |      kwargs : Keys are output blob names and values are diff ndarrays.\n",
      " |              If None, top diffs are taken from forward loss.\n",
      " |      start : optional name of layer at which to begin the backward pass\n",
      " |      end : optional name of layer at which to finish the backward pass\n",
      " |          (inclusive)\n",
      " |      \n",
      " |      Returns\n",
      " |      -------\n",
      " |      outs: {blob name: diff ndarray} dict.\n",
      " |  \n",
      " |  before_backward(...)\n",
      " |      before_backward( (Net)arg1, (object)arg2) -> None :\n",
      " |      \n",
      " |          C++ signature :\n",
      " |              void before_backward(caffe::Net<float>*,boost::python::api::object)\n",
      " |  \n",
      " |  before_forward(...)\n",
      " |      before_forward( (Net)arg1, (object)arg2) -> None :\n",
      " |      \n",
      " |          C++ signature :\n",
      " |              void before_forward(caffe::Net<float>*,boost::python::api::object)\n",
      " |  \n",
      " |  clear_param_diffs(...)\n",
      " |      clear_param_diffs( (Net)arg1) -> None :\n",
      " |      \n",
      " |          C++ signature :\n",
      " |              void clear_param_diffs(caffe::Net<float> {lvalue})\n",
      " |  \n",
      " |  copy_from(...)\n",
      " |      copy_from( (Net)arg1, (str)arg2) -> None :\n",
      " |      \n",
      " |          C++ signature :\n",
      " |              void copy_from(caffe::Net<float> {lvalue},std::string)\n",
      " |  \n",
      " |  forward = _Net_forward(self, blobs=None, start=None, end=None, **kwargs)\n",
      " |      Forward pass: prepare inputs and run the net forward.\n",
      " |      \n",
      " |      Parameters\n",
      " |      ----------\n",
      " |      blobs : list of blobs to return in addition to output blobs.\n",
      " |      kwargs : Keys are input blob names and values are blob ndarrays.\n",
      " |               For formatting inputs for Caffe, see Net.preprocess().\n",
      " |               If None, input is taken from data layers.\n",
      " |      start : optional name of layer at which to begin the forward pass\n",
      " |      end : optional name of layer at which to finish the forward pass\n",
      " |            (inclusive)\n",
      " |      \n",
      " |      Returns\n",
      " |      -------\n",
      " |      outs : {blob name: blob ndarray} dict.\n",
      " |  \n",
      " |  forward_all = _Net_forward_all(self, blobs=None, **kwargs)\n",
      " |      Run net forward in batches.\n",
      " |      \n",
      " |      Parameters\n",
      " |      ----------\n",
      " |      blobs : list of blobs to extract as in forward()\n",
      " |      kwargs : Keys are input blob names and values are blob ndarrays.\n",
      " |               Refer to forward().\n",
      " |      \n",
      " |      Returns\n",
      " |      -------\n",
      " |      all_outs : {blob name: list of blobs} dict.\n",
      " |  \n",
      " |  forward_backward_all = _Net_forward_backward_all(self, blobs=None, diffs=None, **kwargs)\n",
      " |      Run net forward + backward in batches.\n",
      " |      \n",
      " |      Parameters\n",
      " |      ----------\n",
      " |      blobs: list of blobs to extract as in forward()\n",
      " |      diffs: list of diffs to extract as in backward()\n",
      " |      kwargs: Keys are input (for forward) and output (for backward) blob names\n",
      " |              and values are ndarrays. Refer to forward() and backward().\n",
      " |              Prefilled variants are called for lack of input or output blobs.\n",
      " |      \n",
      " |      Returns\n",
      " |      -------\n",
      " |      all_blobs: {blob name: blob ndarray} dict.\n",
      " |      all_diffs: {blob name: diff ndarray} dict.\n",
      " |  \n",
      " |  load_hdf5(...)\n",
      " |      load_hdf5( (Net)arg1, (str)arg2) -> None :\n",
      " |      \n",
      " |          C++ signature :\n",
      " |              void load_hdf5(caffe::Net<float>*,std::string)\n",
      " |  \n",
      " |  reshape(...)\n",
      " |      reshape( (Net)arg1) -> None :\n",
      " |      \n",
      " |          C++ signature :\n",
      " |              void reshape(caffe::Net<float> {lvalue})\n",
      " |  \n",
      " |  save(...)\n",
      " |      save( (Net)arg1, (str)arg2) -> None :\n",
      " |      \n",
      " |          C++ signature :\n",
      " |              void save(caffe::Net<float>,std::string)\n",
      " |  \n",
      " |  save_hdf5(...)\n",
      " |      save_hdf5( (Net)arg1, (str)arg2) -> None :\n",
      " |      \n",
      " |          C++ signature :\n",
      " |              void save_hdf5(caffe::Net<float>,std::string)\n",
      " |  \n",
      " |  set_input_arrays = _Net_set_input_arrays(self, data, labels)\n",
      " |      Set input arrays of the in-memory MemoryDataLayer.\n",
      " |      (Note: this is only for networks declared with the memory data layer.)\n",
      " |  \n",
      " |  share_with(...)\n",
      " |      share_with( (Net)arg1, (Net)arg2) -> None :\n",
      " |      \n",
      " |          C++ signature :\n",
      " |              void share_with(caffe::Net<float> {lvalue},caffe::Net<float> const*)\n",
      " |  \n",
      " |  ----------------------------------------------------------------------\n",
      " |  Data descriptors defined here:\n",
      " |  \n",
      " |  blob_loss_weights\n",
      " |      An OrderedDict (bottom to top, i.e., input to output) of network\n",
      " |      blob loss weights indexed by name\n",
      " |  \n",
      " |  blobs\n",
      " |      An OrderedDict (bottom to top, i.e., input to output) of network\n",
      " |      blobs indexed by name\n",
      " |  \n",
      " |  bottom_names\n",
      " |  \n",
      " |  inputs\n",
      " |  \n",
      " |  layer_dict\n",
      " |      An OrderedDict (bottom to top, i.e., input to output) of network\n",
      " |      layers indexed by name\n",
      " |  \n",
      " |  layers\n",
      " |  \n",
      " |  outputs\n",
      " |  \n",
      " |  params\n",
      " |      An OrderedDict (bottom to top, i.e., input to output) of network\n",
      " |      parameters indexed by name; each is a list of multiple blobs (e.g.,\n",
      " |      weights and biases)\n",
      " |  \n",
      " |  top_names\n",
      " |  \n",
      " |  ----------------------------------------------------------------------\n",
      " |  Data descriptors inherited from Boost.Python.instance:\n",
      " |  \n",
      " |  __dict__\n",
      " |  \n",
      " |  __weakref__\n",
      " |  \n",
      " |  ----------------------------------------------------------------------\n",
      " |  Data and other attributes inherited from Boost.Python.instance:\n",
      " |  \n",
      " |  __new__ = <built-in method __new__ of Boost.Python.class object>\n",
      " |      T.__new__(S, ...) -> a new object with type S, a subtype of T\n",
      "\n",
      "None\n"
     ]
    }
   ],
   "source": [
    "print help(net) "
   ]
  },
  {
   "cell_type": "code",
   "execution_count": 9,
   "metadata": {
    "collapsed": false
   },
   "outputs": [
    {
     "name": "stdout",
     "output_type": "stream",
     "text": [
      "<type 'list'>\n"
     ]
    }
   ],
   "source": [
    "print(type(net.inputs))"
   ]
  },
  {
   "cell_type": "code",
   "execution_count": 10,
   "metadata": {
    "collapsed": false
   },
   "outputs": [
    {
     "name": "stdout",
     "output_type": "stream",
     "text": [
      "<class 'collections.OrderedDict'>\n"
     ]
    }
   ],
   "source": [
    "print(type(net.blobs))"
   ]
  },
  {
   "cell_type": "code",
   "execution_count": 11,
   "metadata": {
    "collapsed": false
   },
   "outputs": [
    {
     "name": "stdout",
     "output_type": "stream",
     "text": [
      "['__class__', '__delattr__', '__dict__', '__doc__', '__format__', '__getattribute__', '__hash__', '__init__', '__module__', '__new__', '__reduce__', '__reduce_ex__', '__repr__', '__setattr__', '__sizeof__', '__str__', '__subclasshook__', '__weakref__', 'channels', 'count', 'data', 'diff', 'height', 'num', 'reshape', 'shape', 'width']\n"
     ]
    }
   ],
   "source": [
    "print(dir(net.blobs['data']))"
   ]
  },
  {
   "cell_type": "code",
   "execution_count": 12,
   "metadata": {
    "collapsed": false
   },
   "outputs": [
    {
     "name": "stdout",
     "output_type": "stream",
     "text": [
      "[('data', <caffe._caffe.Blob object at 0x7f6d51571668>), ('conv1', <caffe._caffe.Blob object at 0x7f6d109a6ed8>)]\n"
     ]
    }
   ],
   "source": [
    "print([(k,v) for k,v in net.blobs.items()])"
   ]
  },
  {
   "cell_type": "code",
   "execution_count": 13,
   "metadata": {
    "collapsed": false
   },
   "outputs": [
    {
     "data": {
      "text/plain": [
       "<caffe._caffe.Blob at 0x7f6d51571668>"
      ]
     },
     "execution_count": 13,
     "metadata": {},
     "output_type": "execute_result"
    }
   ],
   "source": [
    "net.blobs['data']"
   ]
  },
  {
   "cell_type": "code",
   "execution_count": 22,
   "metadata": {
    "collapsed": false
   },
   "outputs": [
    {
     "data": {
      "text/plain": [
       "1"
      ]
     },
     "execution_count": 22,
     "metadata": {},
     "output_type": "execute_result"
    }
   ],
   "source": [
    "net.blobs[\"data\"].num"
   ]
  },
  {
   "cell_type": "code",
   "execution_count": 16,
   "metadata": {
    "collapsed": false
   },
   "outputs": [
    {
     "data": {
      "text/plain": [
       "1"
      ]
     },
     "execution_count": 16,
     "metadata": {},
     "output_type": "execute_result"
    }
   ],
   "source": [
    "net.blobs[\"data\"].channels"
   ]
  },
  {
   "cell_type": "code",
   "execution_count": 23,
   "metadata": {
    "collapsed": false
   },
   "outputs": [
    {
     "data": {
      "text/plain": [
       "100"
      ]
     },
     "execution_count": 23,
     "metadata": {},
     "output_type": "execute_result"
    }
   ],
   "source": [
    "net.blobs[\"data\"].height"
   ]
  },
  {
   "cell_type": "code",
   "execution_count": 24,
   "metadata": {
    "collapsed": false
   },
   "outputs": [
    {
     "data": {
      "text/plain": [
       "100"
      ]
     },
     "execution_count": 24,
     "metadata": {},
     "output_type": "execute_result"
    }
   ],
   "source": [
    "net.blobs[\"data\"].width"
   ]
  },
  {
   "cell_type": "code",
   "execution_count": 17,
   "metadata": {
    "collapsed": false
   },
   "outputs": [
    {
     "data": {
      "text/plain": [
       "10000"
      ]
     },
     "execution_count": 17,
     "metadata": {},
     "output_type": "execute_result"
    }
   ],
   "source": [
    "net.blobs[\"data\"].count"
   ]
  },
  {
   "cell_type": "code",
   "execution_count": 18,
   "metadata": {
    "collapsed": false
   },
   "outputs": [
    {
     "data": {
      "text/plain": [
       "array([[[[ 0.,  0.,  0., ...,  0.,  0.,  0.],\n",
       "         [ 0.,  0.,  0., ...,  0.,  0.,  0.],\n",
       "         [ 0.,  0.,  0., ...,  0.,  0.,  0.],\n",
       "         ..., \n",
       "         [ 0.,  0.,  0., ...,  0.,  0.,  0.],\n",
       "         [ 0.,  0.,  0., ...,  0.,  0.,  0.],\n",
       "         [ 0.,  0.,  0., ...,  0.,  0.,  0.]]]], dtype=float32)"
      ]
     },
     "execution_count": 18,
     "metadata": {},
     "output_type": "execute_result"
    }
   ],
   "source": [
    "net.blobs[\"data\"].data"
   ]
  },
  {
   "cell_type": "code",
   "execution_count": 20,
   "metadata": {
    "collapsed": false
   },
   "outputs": [
    {
     "data": {
      "text/plain": [
       "(1, 1, 100, 100)"
      ]
     },
     "execution_count": 20,
     "metadata": {},
     "output_type": "execute_result"
    }
   ],
   "source": [
    "net.blobs[\"data\"].data.shape"
   ]
  },
  {
   "cell_type": "code",
   "execution_count": 19,
   "metadata": {
    "collapsed": false
   },
   "outputs": [
    {
     "data": {
      "text/plain": [
       "array([[[[ 0.,  0.,  0., ...,  0.,  0.,  0.],\n",
       "         [ 0.,  0.,  0., ...,  0.,  0.,  0.],\n",
       "         [ 0.,  0.,  0., ...,  0.,  0.,  0.],\n",
       "         ..., \n",
       "         [ 0.,  0.,  0., ...,  0.,  0.,  0.],\n",
       "         [ 0.,  0.,  0., ...,  0.,  0.,  0.],\n",
       "         [ 0.,  0.,  0., ...,  0.,  0.,  0.]]]], dtype=float32)"
      ]
     },
     "execution_count": 19,
     "metadata": {},
     "output_type": "execute_result"
    }
   ],
   "source": [
    "net.blobs[\"data\"].diff"
   ]
  },
  {
   "cell_type": "code",
   "execution_count": 25,
   "metadata": {
    "collapsed": false
   },
   "outputs": [
    {
     "data": {
      "text/plain": [
       "(1, 1, 100, 100)"
      ]
     },
     "execution_count": 25,
     "metadata": {},
     "output_type": "execute_result"
    }
   ],
   "source": [
    "net.blobs[\"data\"].diff.shape"
   ]
  },
  {
   "cell_type": "code",
   "execution_count": 26,
   "metadata": {
    "collapsed": false
   },
   "outputs": [
    {
     "data": {
      "text/plain": [
       "['__class__',\n",
       " '__delattr__',\n",
       " '__dict__',\n",
       " '__doc__',\n",
       " '__format__',\n",
       " '__getattribute__',\n",
       " '__hash__',\n",
       " '__init__',\n",
       " '__module__',\n",
       " '__new__',\n",
       " '__reduce__',\n",
       " '__reduce_ex__',\n",
       " '__repr__',\n",
       " '__setattr__',\n",
       " '__sizeof__',\n",
       " '__str__',\n",
       " '__subclasshook__',\n",
       " '__weakref__',\n",
       " 'channels',\n",
       " 'count',\n",
       " 'data',\n",
       " 'diff',\n",
       " 'height',\n",
       " 'num',\n",
       " 'reshape',\n",
       " 'shape',\n",
       " 'width']"
      ]
     },
     "execution_count": 26,
     "metadata": {},
     "output_type": "execute_result"
    }
   ],
   "source": [
    "dir(net.blobs[\"conv1\"])"
   ]
  },
  {
   "cell_type": "code",
   "execution_count": 27,
   "metadata": {
    "collapsed": true
   },
   "outputs": [
    {
     "data": {
      "text/plain": [
       "array([[[[ 0.,  0.,  0., ...,  0.,  0.,  0.],\n",
       "         [ 0.,  0.,  0., ...,  0.,  0.,  0.],\n",
       "         [ 0.,  0.,  0., ...,  0.,  0.,  0.],\n",
       "         ..., \n",
       "         [ 0.,  0.,  0., ...,  0.,  0.,  0.],\n",
       "         [ 0.,  0.,  0., ...,  0.,  0.,  0.],\n",
       "         [ 0.,  0.,  0., ...,  0.,  0.,  0.]],\n",
       "\n",
       "        [[ 0.,  0.,  0., ...,  0.,  0.,  0.],\n",
       "         [ 0.,  0.,  0., ...,  0.,  0.,  0.],\n",
       "         [ 0.,  0.,  0., ...,  0.,  0.,  0.],\n",
       "         ..., \n",
       "         [ 0.,  0.,  0., ...,  0.,  0.,  0.],\n",
       "         [ 0.,  0.,  0., ...,  0.,  0.,  0.],\n",
       "         [ 0.,  0.,  0., ...,  0.,  0.,  0.]],\n",
       "\n",
       "        [[ 0.,  0.,  0., ...,  0.,  0.,  0.],\n",
       "         [ 0.,  0.,  0., ...,  0.,  0.,  0.],\n",
       "         [ 0.,  0.,  0., ...,  0.,  0.,  0.],\n",
       "         ..., \n",
       "         [ 0.,  0.,  0., ...,  0.,  0.,  0.],\n",
       "         [ 0.,  0.,  0., ...,  0.,  0.,  0.],\n",
       "         [ 0.,  0.,  0., ...,  0.,  0.,  0.]]]], dtype=float32)"
      ]
     },
     "execution_count": 27,
     "metadata": {},
     "output_type": "execute_result"
    }
   ],
   "source": [
    "net.blobs[\"conv1\"].data"
   ]
  },
  {
   "cell_type": "code",
   "execution_count": 29,
   "metadata": {
    "collapsed": false
   },
   "outputs": [
    {
     "data": {
      "text/plain": [
       "(1, 3, 96, 96)"
      ]
     },
     "execution_count": 29,
     "metadata": {},
     "output_type": "execute_result"
    }
   ],
   "source": [
    "net.blobs[\"conv1\"].data.shape"
   ]
  },
  {
   "cell_type": "code",
   "execution_count": 28,
   "metadata": {
    "collapsed": true
   },
   "outputs": [
    {
     "data": {
      "text/plain": [
       "array([[[[ 0.,  0.,  0., ...,  0.,  0.,  0.],\n",
       "         [ 0.,  0.,  0., ...,  0.,  0.,  0.],\n",
       "         [ 0.,  0.,  0., ...,  0.,  0.,  0.],\n",
       "         ..., \n",
       "         [ 0.,  0.,  0., ...,  0.,  0.,  0.],\n",
       "         [ 0.,  0.,  0., ...,  0.,  0.,  0.],\n",
       "         [ 0.,  0.,  0., ...,  0.,  0.,  0.]],\n",
       "\n",
       "        [[ 0.,  0.,  0., ...,  0.,  0.,  0.],\n",
       "         [ 0.,  0.,  0., ...,  0.,  0.,  0.],\n",
       "         [ 0.,  0.,  0., ...,  0.,  0.,  0.],\n",
       "         ..., \n",
       "         [ 0.,  0.,  0., ...,  0.,  0.,  0.],\n",
       "         [ 0.,  0.,  0., ...,  0.,  0.,  0.],\n",
       "         [ 0.,  0.,  0., ...,  0.,  0.,  0.]],\n",
       "\n",
       "        [[ 0.,  0.,  0., ...,  0.,  0.,  0.],\n",
       "         [ 0.,  0.,  0., ...,  0.,  0.,  0.],\n",
       "         [ 0.,  0.,  0., ...,  0.,  0.,  0.],\n",
       "         ..., \n",
       "         [ 0.,  0.,  0., ...,  0.,  0.,  0.],\n",
       "         [ 0.,  0.,  0., ...,  0.,  0.,  0.],\n",
       "         [ 0.,  0.,  0., ...,  0.,  0.,  0.]]]], dtype=float32)"
      ]
     },
     "execution_count": 28,
     "metadata": {},
     "output_type": "execute_result"
    }
   ],
   "source": [
    "net.blobs[\"conv1\"].diff"
   ]
  },
  {
   "cell_type": "code",
   "execution_count": 30,
   "metadata": {
    "collapsed": false
   },
   "outputs": [
    {
     "data": {
      "text/plain": [
       "[('data', (1, 1, 100, 100)), ('conv1', (1, 3, 96, 96))]"
      ]
     },
     "execution_count": 30,
     "metadata": {},
     "output_type": "execute_result"
    }
   ],
   "source": [
    "[(k,v.data.shape) for k,v in net.blobs.items()]"
   ]
  },
  {
   "cell_type": "code",
   "execution_count": 31,
   "metadata": {
    "collapsed": false
   },
   "outputs": [
    {
     "data": {
      "text/plain": [
       "OrderedDict([('conv', <caffe._caffe.BlobVec at 0x7f6d109aab40>)])"
      ]
     },
     "execution_count": 31,
     "metadata": {},
     "output_type": "execute_result"
    }
   ],
   "source": [
    "net.params"
   ]
  },
  {
   "cell_type": "code",
   "execution_count": 32,
   "metadata": {
    "collapsed": false
   },
   "outputs": [
    {
     "data": {
      "text/plain": [
       "caffe._caffe.BlobVec"
      ]
     },
     "execution_count": 32,
     "metadata": {},
     "output_type": "execute_result"
    }
   ],
   "source": [
    "type(net.params[\"conv\"])"
   ]
  },
  {
   "cell_type": "code",
   "execution_count": 33,
   "metadata": {
    "collapsed": true
   },
   "outputs": [
    {
     "data": {
      "text/plain": [
       "['__class__',\n",
       " '__contains__',\n",
       " '__delattr__',\n",
       " '__delitem__',\n",
       " '__dict__',\n",
       " '__doc__',\n",
       " '__format__',\n",
       " '__getattribute__',\n",
       " '__getitem__',\n",
       " '__hash__',\n",
       " '__init__',\n",
       " '__instance_size__',\n",
       " '__iter__',\n",
       " '__len__',\n",
       " '__module__',\n",
       " '__new__',\n",
       " '__reduce__',\n",
       " '__reduce_ex__',\n",
       " '__repr__',\n",
       " '__setattr__',\n",
       " '__setitem__',\n",
       " '__sizeof__',\n",
       " '__str__',\n",
       " '__subclasshook__',\n",
       " '__weakref__',\n",
       " 'add_blob',\n",
       " 'append',\n",
       " 'extend']"
      ]
     },
     "execution_count": 33,
     "metadata": {},
     "output_type": "execute_result"
    }
   ],
   "source": [
    "dir(net.params[\"conv\"])"
   ]
  },
  {
   "cell_type": "code",
   "execution_count": 34,
   "metadata": {
    "collapsed": false
   },
   "outputs": [
    {
     "data": {
      "text/plain": [
       "2"
      ]
     },
     "execution_count": 34,
     "metadata": {},
     "output_type": "execute_result"
    }
   ],
   "source": [
    "len(net.params[\"conv\"])"
   ]
  },
  {
   "cell_type": "code",
   "execution_count": 35,
   "metadata": {
    "collapsed": false
   },
   "outputs": [
    {
     "data": {
      "text/plain": [
       "caffe._caffe.Blob"
      ]
     },
     "execution_count": 35,
     "metadata": {},
     "output_type": "execute_result"
    }
   ],
   "source": [
    "type(net.params[\"conv\"][0])  #weight"
   ]
  },
  {
   "cell_type": "code",
   "execution_count": 36,
   "metadata": {
    "collapsed": false
   },
   "outputs": [
    {
     "data": {
      "text/plain": [
       "<caffe._caffe.Blob at 0x7f6d109bd2a8>"
      ]
     },
     "execution_count": 36,
     "metadata": {},
     "output_type": "execute_result"
    }
   ],
   "source": [
    "net.params[\"conv\"][0]"
   ]
  },
  {
   "cell_type": "code",
   "execution_count": 37,
   "metadata": {
    "collapsed": false
   },
   "outputs": [
    {
     "data": {
      "text/plain": [
       "caffe._caffe.Blob"
      ]
     },
     "execution_count": 37,
     "metadata": {},
     "output_type": "execute_result"
    }
   ],
   "source": [
    "type(net.params[\"conv\"][1])  #bias"
   ]
  },
  {
   "cell_type": "code",
   "execution_count": 38,
   "metadata": {
    "collapsed": false
   },
   "outputs": [
    {
     "data": {
      "text/plain": [
       "<caffe._caffe.Blob at 0x7f6d109bd1b8>"
      ]
     },
     "execution_count": 38,
     "metadata": {},
     "output_type": "execute_result"
    }
   ],
   "source": [
    "net.params[\"conv\"][1]"
   ]
  },
  {
   "cell_type": "code",
   "execution_count": 40,
   "metadata": {
    "collapsed": false
   },
   "outputs": [
    {
     "data": {
      "text/plain": [
       "75"
      ]
     },
     "execution_count": 40,
     "metadata": {},
     "output_type": "execute_result"
    }
   ],
   "source": [
    "net.params[\"conv\"][0].count"
   ]
  },
  {
   "cell_type": "code",
   "execution_count": 41,
   "metadata": {
    "collapsed": true
   },
   "outputs": [
    {
     "data": {
      "text/plain": [
       "array([[[[ 0.00230441, -0.01212337,  0.00209555,  0.02048757, -0.00828044],\n",
       "         [ 0.00066182,  0.00175591,  0.00517966, -0.01364826,  0.01198405],\n",
       "         [ 0.01003639,  0.00858907, -0.02642966, -0.01117995,  0.00719016],\n",
       "         [ 0.00505872, -0.011738  ,  0.00103667,  0.01844401, -0.0031838 ],\n",
       "         [ 0.00043328, -0.01125987,  0.00052166, -0.00270148, -0.00280319]]],\n",
       "\n",
       "\n",
       "       [[[-0.00563696,  0.00161255,  0.00100273, -0.00045065, -0.00399304],\n",
       "         [-0.00080523,  0.00892141, -0.00234536, -0.01430306,  0.00105015],\n",
       "         [ 0.01957805, -0.00369492, -0.0062302 ,  0.0043225 , -0.00117626],\n",
       "         [-0.00186105, -0.00246757, -0.00218272,  0.00532596, -0.00064827],\n",
       "         [ 0.0042028 ,  0.00312632,  0.00078236, -0.00362117,  0.0004766 ]]],\n",
       "\n",
       "\n",
       "       [[[ 0.00967041,  0.0144755 , -0.00657883, -0.00170403, -0.03245863],\n",
       "         [ 0.0031265 ,  0.00447395,  0.00946882,  0.00559208, -0.01430211],\n",
       "         [ 0.00632495,  0.00459284,  0.01659666,  0.01632923,  0.00190463],\n",
       "         [-0.00289441, -0.00391762,  0.01705902, -0.00592687, -0.00675228],\n",
       "         [ 0.00215626,  0.01370485,  0.0103043 , -0.00403214, -0.02458989]]]], dtype=float32)"
      ]
     },
     "execution_count": 41,
     "metadata": {},
     "output_type": "execute_result"
    }
   ],
   "source": [
    "net.params[\"conv\"][0].data"
   ]
  },
  {
   "cell_type": "code",
   "execution_count": 46,
   "metadata": {
    "collapsed": false
   },
   "outputs": [
    {
     "data": {
      "text/plain": [
       "3"
      ]
     },
     "execution_count": 46,
     "metadata": {},
     "output_type": "execute_result"
    }
   ],
   "source": [
    "net.params[\"conv\"][0].num"
   ]
  },
  {
   "cell_type": "code",
   "execution_count": 42,
   "metadata": {
    "collapsed": false
   },
   "outputs": [
    {
     "data": {
      "text/plain": [
       "1"
      ]
     },
     "execution_count": 42,
     "metadata": {},
     "output_type": "execute_result"
    }
   ],
   "source": [
    "net.params[\"conv\"][0].channels"
   ]
  },
  {
   "cell_type": "code",
   "execution_count": 44,
   "metadata": {
    "collapsed": false
   },
   "outputs": [
    {
     "data": {
      "text/plain": [
       "5"
      ]
     },
     "execution_count": 44,
     "metadata": {},
     "output_type": "execute_result"
    }
   ],
   "source": [
    "net.params[\"conv\"][0].height"
   ]
  },
  {
   "cell_type": "code",
   "execution_count": 45,
   "metadata": {
    "collapsed": false
   },
   "outputs": [
    {
     "data": {
      "text/plain": [
       "5"
      ]
     },
     "execution_count": 45,
     "metadata": {},
     "output_type": "execute_result"
    }
   ],
   "source": [
    "net.params[\"conv\"][0].width"
   ]
  },
  {
   "cell_type": "code",
   "execution_count": 48,
   "metadata": {
    "collapsed": false
   },
   "outputs": [
    {
     "data": {
      "text/plain": [
       "[('conv', (3, 1, 5, 5), (3,))]"
      ]
     },
     "execution_count": 48,
     "metadata": {},
     "output_type": "execute_result"
    }
   ],
   "source": [
    "[(k,v[0].data.shape,v[1].data.shape) for k,v in net.params.items()]"
   ]
  },
  {
   "cell_type": "code",
   "execution_count": 49,
   "metadata": {
    "collapsed": true
   },
   "outputs": [],
   "source": [
    "im = np.array(Image.open('/home/lqp/caffe/examples/images/cat_gray.jpg'))  "
   ]
  },
  {
   "cell_type": "code",
   "execution_count": 50,
   "metadata": {
    "collapsed": true
   },
   "outputs": [],
   "source": [
    "im_input = im[np.newaxis, np.newaxis, :, :]  "
   ]
  },
  {
   "cell_type": "code",
   "execution_count": 62,
   "metadata": {
    "collapsed": false
   },
   "outputs": [],
   "source": [
    "net.blobs['data'].reshape(*im_input.shape)"
   ]
  },
  {
   "cell_type": "code",
   "execution_count": 63,
   "metadata": {
    "collapsed": true
   },
   "outputs": [],
   "source": [
    "net.blobs['data'].data[...] = im_input  "
   ]
  },
  {
   "cell_type": "code",
   "execution_count": 64,
   "metadata": {
    "collapsed": false
   },
   "outputs": [
    {
     "name": "stdout",
     "output_type": "stream",
     "text": [
      "(1, 1, 360, 480)\n"
     ]
    }
   ],
   "source": [
    "print net.blobs['data'].data.shape  "
   ]
  },
  {
   "cell_type": "code",
   "execution_count": 65,
   "metadata": {
    "collapsed": false
   },
   "outputs": [
    {
     "data": {
      "text/plain": [
       "{'conv1': array([[[[ -1.31701007e-01,  -7.79815987e-02,  -2.47457594e-01, ...,\n",
       "            -6.40156209e-01,  -5.25955737e-01,  -3.90512288e-01],\n",
       "          [ -2.05688074e-01,  -2.35169128e-01,  -1.85428113e-01, ...,\n",
       "            -4.92316186e-01,  -4.90979195e-01,  -5.44241250e-01],\n",
       "          [ -1.65241003e-01,  -3.13894451e-01,  -2.49478206e-01, ...,\n",
       "            -6.15325153e-01,  -6.39151216e-01,  -4.75485295e-01],\n",
       "          ..., \n",
       "          [ -2.23480046e-01,  -2.53433257e-01,  -2.47621328e-01, ...,\n",
       "            -2.49264193e+00,  -9.50402319e-01,  -1.11456251e+00],\n",
       "          [ -2.43851811e-01,  -4.97557223e-01,  -4.74083900e-01, ...,\n",
       "            -1.64946407e-01,  -6.02019668e-01,  -1.95862758e+00],\n",
       "          [ -4.75489140e-01,  -7.12440610e-01,  -5.66260397e-01, ...,\n",
       "            -2.13529086e+00,  -1.80782866e+00,  -9.61293697e-01]],\n",
       " \n",
       "         [[  4.06406261e-02,  -1.21277245e-03,  -4.03973274e-02, ...,\n",
       "             7.94924349e-02,   1.36564359e-01,   1.32623658e-01],\n",
       "          [  5.16705811e-02,   5.66075835e-03,   1.12253297e-02, ...,\n",
       "             2.13420019e-01,   2.16825143e-01,   1.33765176e-01],\n",
       "          [  6.52785152e-02,  -2.94953175e-02,   2.60603465e-02, ...,\n",
       "             3.01507264e-01,   1.94406122e-01,   1.32296145e-01],\n",
       "          ..., \n",
       "          [  4.78365310e-02,   1.38816178e-01,  -4.69519012e-02, ...,\n",
       "             1.79758057e-01,   7.36649990e-01,   8.98407936e-01],\n",
       "          [  1.14977755e-01,   7.61180669e-02,  -2.75161602e-02, ...,\n",
       "             6.17178559e-01,   1.10158813e+00,  -1.42779946e-01],\n",
       "          [  6.41424358e-02,  -1.22716986e-01,   3.61558236e-02, ...,\n",
       "             1.03800917e+00,   4.32900786e-01,   1.31614789e-01]],\n",
       " \n",
       "         [[  6.78838551e-01,   6.95008934e-01,   9.30158138e-01, ...,\n",
       "             2.01956868e+00,   1.69773579e+00,   1.29837954e+00],\n",
       "          [  8.85856032e-01,   8.47986221e-01,   8.54411840e-01, ...,\n",
       "             1.93262076e+00,   1.78289247e+00,   1.44246972e+00],\n",
       "          [  8.82575691e-01,   9.26099360e-01,   9.07006919e-01, ...,\n",
       "             2.22599006e+00,   1.98277688e+00,   1.61110771e+00],\n",
       "          ..., \n",
       "          [  1.29923785e+00,   1.13384712e+00,   8.94398093e-01, ...,\n",
       "             8.28341579e+00,   7.30072165e+00,   7.15824127e+00],\n",
       "          [  1.27164149e+00,   1.25510490e+00,   1.01405323e+00, ...,\n",
       "             6.94906521e+00,   6.30807590e+00,   5.54007244e+00],\n",
       "          [  1.00470936e+00,   1.19825530e+00,   1.25760090e+00, ...,\n",
       "             7.71326351e+00,   6.60929728e+00,   5.48837137e+00]]]], dtype=float32)}"
      ]
     },
     "execution_count": 65,
     "metadata": {},
     "output_type": "execute_result"
    }
   ],
   "source": [
    "net.forward()"
   ]
  },
  {
   "cell_type": "code",
   "execution_count": 69,
   "metadata": {
    "collapsed": false
   },
   "outputs": [
    {
     "data": {
      "text/plain": [
       "(1, 3, 356, 476)"
      ]
     },
     "execution_count": 69,
     "metadata": {},
     "output_type": "execute_result"
    }
   ],
   "source": [
    "net.blobs[\"conv1\"].data.shape"
   ]
  },
  {
   "cell_type": "code",
   "execution_count": 66,
   "metadata": {
    "collapsed": false
   },
   "outputs": [
    {
     "data": {
      "text/plain": [
       "array([[[ -1.31701007e-01,  -7.79815987e-02,  -2.47457594e-01, ...,\n",
       "          -6.40156209e-01,  -5.25955737e-01,  -3.90512288e-01],\n",
       "        [ -2.05688074e-01,  -2.35169128e-01,  -1.85428113e-01, ...,\n",
       "          -4.92316186e-01,  -4.90979195e-01,  -5.44241250e-01],\n",
       "        [ -1.65241003e-01,  -3.13894451e-01,  -2.49478206e-01, ...,\n",
       "          -6.15325153e-01,  -6.39151216e-01,  -4.75485295e-01],\n",
       "        ..., \n",
       "        [ -2.23480046e-01,  -2.53433257e-01,  -2.47621328e-01, ...,\n",
       "          -2.49264193e+00,  -9.50402319e-01,  -1.11456251e+00],\n",
       "        [ -2.43851811e-01,  -4.97557223e-01,  -4.74083900e-01, ...,\n",
       "          -1.64946407e-01,  -6.02019668e-01,  -1.95862758e+00],\n",
       "        [ -4.75489140e-01,  -7.12440610e-01,  -5.66260397e-01, ...,\n",
       "          -2.13529086e+00,  -1.80782866e+00,  -9.61293697e-01]],\n",
       "\n",
       "       [[  4.06406261e-02,  -1.21277245e-03,  -4.03973274e-02, ...,\n",
       "           7.94924349e-02,   1.36564359e-01,   1.32623658e-01],\n",
       "        [  5.16705811e-02,   5.66075835e-03,   1.12253297e-02, ...,\n",
       "           2.13420019e-01,   2.16825143e-01,   1.33765176e-01],\n",
       "        [  6.52785152e-02,  -2.94953175e-02,   2.60603465e-02, ...,\n",
       "           3.01507264e-01,   1.94406122e-01,   1.32296145e-01],\n",
       "        ..., \n",
       "        [  4.78365310e-02,   1.38816178e-01,  -4.69519012e-02, ...,\n",
       "           1.79758057e-01,   7.36649990e-01,   8.98407936e-01],\n",
       "        [  1.14977755e-01,   7.61180669e-02,  -2.75161602e-02, ...,\n",
       "           6.17178559e-01,   1.10158813e+00,  -1.42779946e-01],\n",
       "        [  6.41424358e-02,  -1.22716986e-01,   3.61558236e-02, ...,\n",
       "           1.03800917e+00,   4.32900786e-01,   1.31614789e-01]],\n",
       "\n",
       "       [[  6.78838551e-01,   6.95008934e-01,   9.30158138e-01, ...,\n",
       "           2.01956868e+00,   1.69773579e+00,   1.29837954e+00],\n",
       "        [  8.85856032e-01,   8.47986221e-01,   8.54411840e-01, ...,\n",
       "           1.93262076e+00,   1.78289247e+00,   1.44246972e+00],\n",
       "        [  8.82575691e-01,   9.26099360e-01,   9.07006919e-01, ...,\n",
       "           2.22599006e+00,   1.98277688e+00,   1.61110771e+00],\n",
       "        ..., \n",
       "        [  1.29923785e+00,   1.13384712e+00,   8.94398093e-01, ...,\n",
       "           8.28341579e+00,   7.30072165e+00,   7.15824127e+00],\n",
       "        [  1.27164149e+00,   1.25510490e+00,   1.01405323e+00, ...,\n",
       "           6.94906521e+00,   6.30807590e+00,   5.54007244e+00],\n",
       "        [  1.00470936e+00,   1.19825530e+00,   1.25760090e+00, ...,\n",
       "           7.71326351e+00,   6.60929728e+00,   5.48837137e+00]]], dtype=float32)"
      ]
     },
     "execution_count": 66,
     "metadata": {},
     "output_type": "execute_result"
    }
   ],
   "source": [
    "net.blobs[\"conv1\"].data[0,:3]"
   ]
  },
  {
   "cell_type": "code",
   "execution_count": 67,
   "metadata": {
    "collapsed": false
   },
   "outputs": [
    {
     "data": {
      "text/plain": [
       "array([[ 0.04064063, -0.00121277, -0.04039733, ...,  0.07949243,\n",
       "         0.13656436,  0.13262366],\n",
       "       [ 0.05167058,  0.00566076,  0.01122533, ...,  0.21342002,\n",
       "         0.21682514,  0.13376518],\n",
       "       [ 0.06527852, -0.02949532,  0.02606035, ...,  0.30150726,\n",
       "         0.19440612,  0.13229614],\n",
       "       ..., \n",
       "       [ 0.04783653,  0.13881618, -0.0469519 , ...,  0.17975806,\n",
       "         0.73664999,  0.89840794],\n",
       "       [ 0.11497775,  0.07611807, -0.02751616, ...,  0.61717856,\n",
       "         1.10158813, -0.14277995],\n",
       "       [ 0.06414244, -0.12271699,  0.03615582, ...,  1.03800917,\n",
       "         0.43290079,  0.13161479]], dtype=float32)"
      ]
     },
     "execution_count": 67,
     "metadata": {},
     "output_type": "execute_result"
    }
   ],
   "source": [
    "net.blobs[\"conv1\"].data[0,1]"
   ]
  },
  {
   "cell_type": "code",
   "execution_count": 68,
   "metadata": {
    "collapsed": false
   },
   "outputs": [
    {
     "data": {
      "text/plain": [
       "(356, 476)"
      ]
     },
     "execution_count": 68,
     "metadata": {},
     "output_type": "execute_result"
    }
   ],
   "source": [
    "net.blobs[\"conv1\"].data[0,1].shape"
   ]
  },
  {
   "cell_type": "code",
   "execution_count": 70,
   "metadata": {
    "collapsed": true
   },
   "outputs": [],
   "source": [
    "net.save(\"/home/lqp/caffe/examples/lqp/mymodel.caffemodel\")"
   ]
  },
  {
   "cell_type": "code",
   "execution_count": null,
   "metadata": {
    "collapsed": true
   },
   "outputs": [],
   "source": []
  }
 ],
 "metadata": {
  "kernelspec": {
   "display_name": "Python 2",
   "language": "python",
   "name": "python2"
  },
  "language_info": {
   "codemirror_mode": {
    "name": "ipython",
    "version": 2
   },
   "file_extension": ".py",
   "mimetype": "text/x-python",
   "name": "python",
   "nbconvert_exporter": "python",
   "pygments_lexer": "ipython2",
   "version": "2.7.13"
  }
 },
 "nbformat": 4,
 "nbformat_minor": 2
}
